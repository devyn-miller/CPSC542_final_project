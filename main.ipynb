{
 "cells": [
  {
   "cell_type": "markdown",
   "metadata": {},
   "source": [
    "# **Final Project**"
   ]
  },
  {
   "cell_type": "code",
   "execution_count": null,
   "metadata": {},
   "outputs": [],
   "source": [
    "import warnings\n",
    "warnings.filterwarnings('ignore')\n",
    "import importlib\n",
    "import tensorflow as tf\n",
    "from tensorflow import keras\n",
    "from tensorflow.keras.models import load_model\n",
    "from tensorflow.keras.models import model_from_json\n",
    "\n",
    "\n",
    "\n",
    "'''\n",
    "import os\n",
    "os.environ['XLA_FLAGS'] = '--xla_gpu_cuda_data_dir=/usr/lib/cuda'\n",
    "\n",
    "\n",
    "\n",
    "# Ensure this runs before any TensorFlow operations\n",
    "gpus = tf.config.experimental.list_physical_devices('GPU')\n",
    "if gpus:\n",
    "    try:\n",
    "        for gpu in gpus:\n",
    "            tf.config.experimental.set_memory_growth(gpu, True)\n",
    "    except RuntimeError as e:\n",
    "        print(\"here\")\n",
    "        print(e)\n",
    "'''\n",
    "\n",
    "import glob\n",
    "import os\n",
    "import shutil"
   ]
  },
  {
   "cell_type": "code",
   "execution_count": null,
   "metadata": {},
   "outputs": [],
   "source": [
    "'''Imports'''\n",
    "#from src.preprocessing import preprocess\n",
    "#from src.training import get_best_model\n",
    "#from src.validation import Validator\n",
    "#from src.prediction import Predictor\n",
    "import src.objects.stack\n",
    "importlib.reload(src.objects.stack)\n",
    "from src.objects.stack import Stack"
   ]
  },
  {
   "cell_type": "code",
   "execution_count": null,
   "metadata": {},
   "outputs": [],
   "source": [
    "def remove_directories():\n",
    "    # List of directories to remove within 'data'\n",
    "    data_dirs = ['images', 'test', 'train', 'validation']\n",
    "    base_data_path = 'data'\n",
    "\n",
    "    # Directory within 'src/models'\n",
    "    model_dir = 'unet_tuning'\n",
    "    base_model_path = os.path.join('src', 'models', model_dir)\n",
    "\n",
    "    # Removing directories in 'data'\n",
    "    for dir_name in data_dirs:\n",
    "        dir_path = os.path.join(base_data_path, dir_name)\n",
    "        shutil.rmtree(dir_path, ignore_errors=True)\n",
    "\n",
    "    # Removing 'unet_tuning' directory\n",
    "    shutil.rmtree(base_model_path, ignore_errors=True)\n",
    "remove_directories()"
   ]
  },
  {
   "cell_type": "markdown",
   "metadata": {},
   "source": [
    "## **Preprocessing and Augmentation**"
   ]
  },
  {
   "cell_type": "code",
   "execution_count": null,
   "metadata": {},
   "outputs": [],
   "source": [
    "'''Calls Preprocessing functions'''\n",
    "import src.preprocess.preprocess_list as preprocessing\n",
    "importlib.reload(preprocessing)\n",
    "\n",
    "# Set the batch size according to your system's capabilities\n",
    "BATCH_SIZE = 8\n",
    "RESOLUTION = (480, 360)\n",
    "\n",
    "# Call the preprocess function\n",
    "stack = preprocessing.preprocess(BATCH_SIZE, RESOLUTION)"
   ]
  },
  {
   "cell_type": "markdown",
   "metadata": {},
   "source": [
    "## **Training**"
   ]
  },
  {
   "cell_type": "code",
   "execution_count": null,
   "metadata": {},
   "outputs": [],
   "source": [
    "'''Calls training functions'''\n",
    "import src.training as training\n",
    "importlib.reload(training)\n",
    "import src.objects.architecture.conv_autoencoder as conv_autoencoder\n",
    "importlib.reload(conv_autoencoder)\n",
    "\n",
    "\n",
    "print(\"Num GPUs Available: \", len(tf.config.list_physical_devices('GPU')))\n",
    "tf.test.is_gpu_available(cuda_only=False, min_cuda_compute_capability=None)\n",
    "\n",
    "stack = training.get_best_model(stack)"
   ]
  },
  {
   "cell_type": "markdown",
   "metadata": {},
   "source": [
    "## **Prediction**"
   ]
  },
  {
   "cell_type": "code",
   "execution_count": null,
   "metadata": {},
   "outputs": [],
   "source": [
    "'''Calls prediction fucntions in prediction.py and methods from result'''\n",
    "predictor = Predictor(model_path='path/to/saved/model')\n",
    "input_data = 'path/to/input/data'\n",
    "predictions = predictor.predict(input_data)"
   ]
  },
  {
   "cell_type": "markdown",
   "metadata": {},
   "source": [
    "## **Validation**"
   ]
  },
  {
   "cell_type": "code",
   "execution_count": null,
   "metadata": {},
   "outputs": [],
   "source": [
    "'''Calls the validation fuctions in validation.py and methods from result'''\n",
    "validator = Validator(model_path='path/to/saved/model')\n",
    "validation_data = 'path/to/validation/data'\n",
    "evaluation_metrics = validator.validate(validation_data)"
   ]
  }
 ],
 "metadata": {
  "kernelspec": {
   "display_name": "base",
   "language": "python",
   "name": "python3"
  },
  "language_info": {
   "codemirror_mode": {
    "name": "ipython",
    "version": 3
   },
   "file_extension": ".py",
   "mimetype": "text/x-python",
   "name": "python",
   "nbconvert_exporter": "python",
   "pygments_lexer": "ipython3",
   "version": "3.8.10"
  }
 },
 "nbformat": 4,
 "nbformat_minor": 2
}
