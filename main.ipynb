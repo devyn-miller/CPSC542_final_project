{
 "cells": [
  {
   "cell_type": "markdown",
   "metadata": {},
   "source": [
    "# **Final Project**"
   ]
  },
  {
   "cell_type": "code",
   "execution_count": 1,
   "metadata": {},
   "outputs": [
    {
     "name": "stderr",
     "output_type": "stream",
     "text": [
      "2024-04-21 19:30:33.778913: I tensorflow/core/platform/cpu_feature_guard.cc:194] This TensorFlow binary is optimized with oneAPI Deep Neural Network Library (oneDNN) to use the following CPU instructions in performance-critical operations:  SSE3 SSE4.1 SSE4.2 AVX\n",
      "To enable them in other operations, rebuild TensorFlow with the appropriate compiler flags.\n"
     ]
    }
   ],
   "source": [
    "import warnings\n",
    "warnings.filterwarnings('ignore')\n",
    "import importlib\n",
    "import tensorflow as tf\n",
    "from tensorflow import keras\n",
    "from tensorflow.keras.models import load_model\n",
    "from tensorflow.keras.models import model_from_json\n",
    "\n",
    "\n",
    "\n",
    "'''\n",
    "import os\n",
    "os.environ['XLA_FLAGS'] = '--xla_gpu_cuda_data_dir=/usr/lib/cuda'\n",
    "\n",
    "\n",
    "\n",
    "# Ensure this runs before any TensorFlow operations\n",
    "gpus = tf.config.experimental.list_physical_devices('GPU')\n",
    "if gpus:\n",
    "    try:\n",
    "        for gpu in gpus:\n",
    "            tf.config.experimental.set_memory_growth(gpu, True)\n",
    "    except RuntimeError as e:\n",
    "        print(\"here\")\n",
    "        print(e)\n",
    "'''\n",
    "\n",
    "import glob"
   ]
  },
  {
   "cell_type": "code",
   "execution_count": 2,
   "metadata": {},
   "outputs": [],
   "source": [
    "'''Imports'''\n",
    "#from src.preprocessing import preprocess\n",
    "#from src.training import get_best_model\n",
    "#from src.validation import Validator\n",
    "#from src.prediction import Predictor\n",
    "import src.objects.stack\n",
    "importlib.reload(src.objects.stack)\n",
    "from src.objects.stack import Stack"
   ]
  },
  {
   "cell_type": "markdown",
   "metadata": {},
   "source": [
    "## **Preprocessing and Augmentation**"
   ]
  },
  {
   "cell_type": "code",
   "execution_count": 3,
   "metadata": {},
   "outputs": [
    {
     "name": "stdout",
     "output_type": "stream",
     "text": [
      "Current directory: /app/rundir/CPSC542_final_project\n",
      "Current directory2: /app/rundir/CPSC542_final_project\n",
      "Found 1177 images belonging to 1 classes.\n",
      "Found 791 images belonging to 1 classes.\n",
      "Found 489 images belonging to 1 classes.\n"
     ]
    }
   ],
   "source": [
    "'''Calls Preprocessing functions'''\n",
    "import src.preprocessing as preprocessing\n",
    "importlib.reload(preprocessing)\n",
    "\n",
    "# Set the batch size according to your system's capabilities\n",
    "BATCH_SIZE = 8\n",
    "RESOLUTION = (1080, 720)\n",
    "\n",
    "# Call the preprocess function\n",
    "stack = preprocessing.preprocess(BATCH_SIZE, RESOLUTION)"
   ]
  },
  {
   "cell_type": "markdown",
   "metadata": {},
   "source": [
    "## **Training**"
   ]
  },
  {
   "cell_type": "code",
   "execution_count": 4,
   "metadata": {},
   "outputs": [
    {
     "name": "stdout",
     "output_type": "stream",
     "text": [
      "Num GPUs Available:  1\n",
      "WARNING:tensorflow:From /tmp/ipykernel_178154/4224587236.py:9: is_gpu_available (from tensorflow.python.framework.test_util) is deprecated and will be removed in a future version.\n",
      "Instructions for updating:\n",
      "Use `tf.config.list_physical_devices('GPU')` instead.\n",
      "Reloading Tuner from ./src/models/unet_tuning/tuner0.json\n"
     ]
    },
    {
     "name": "stderr",
     "output_type": "stream",
     "text": [
      "2024-04-21 19:30:59.067540: I tensorflow/core/platform/cpu_feature_guard.cc:194] This TensorFlow binary is optimized with oneAPI Deep Neural Network Library (oneDNN) to use the following CPU instructions in performance-critical operations:  SSE3 SSE4.1 SSE4.2 AVX\n",
      "To enable them in other operations, rebuild TensorFlow with the appropriate compiler flags.\n",
      "2024-04-21 19:30:59.398923: I tensorflow/core/common_runtime/gpu/gpu_device.cc:1637] Created device /device:GPU:0 with 78827 MB memory:  -> device: 0, name: NVIDIA A100-SXM4-80GB, pci bus id: 0000:b7:00.0, compute capability: 8.0\n",
      "2024-04-21 19:31:00.378237: I tensorflow/core/common_runtime/gpu/gpu_device.cc:1637] Created device /job:localhost/replica:0/task:0/device:GPU:0 with 78827 MB memory:  -> device: 0, name: NVIDIA A100-SXM4-80GB, pci bus id: 0000:b7:00.0, compute capability: 8.0\n"
     ]
    },
    {
     "name": "stdout",
     "output_type": "stream",
     "text": [
      "Batch shape: (32, 1080, 720, 1)\n",
      "\n",
      "Search: Running Trial #3\n",
      "\n",
      "Value             |Best Value So Far |Hyperparameter\n",
      "1                 |2                 |num_blocks\n",
      "64                |32                |initial_num_filters\n",
      "2                 |3                 |conv_layers\n",
      "4                 |4                 |filter_size\n",
      "\n",
      "HEREHREHERHEHRHEHRHEHRHEHRHEHRH\n",
      "range(0, 1)\n",
      "here\n",
      "Model: \"model\"\n",
      "_________________________________________________________________\n",
      " Layer (type)                Output Shape              Param #   \n",
      "=================================================================\n",
      " input_1 (InputLayer)        [(None, 1080, 720, 1)]    0         \n",
      "                                                                 \n",
      " conv2d (Conv2D)             (None, 1080, 720, 64)     1088      \n",
      "                                                                 \n",
      " batch_normalization (BatchN  (None, 1080, 720, 64)    256       \n",
      " ormalization)                                                   \n",
      "                                                                 \n",
      " tf.nn.relu (TFOpLambda)     (None, 1080, 720, 64)     0         \n",
      "                                                                 \n",
      " conv2d_1 (Conv2D)           (None, 1080, 720, 64)     65600     \n",
      "                                                                 \n",
      " batch_normalization_1 (Batc  (None, 1080, 720, 64)    256       \n",
      " hNormalization)                                                 \n",
      "                                                                 \n",
      " tf.nn.relu_1 (TFOpLambda)   (None, 1080, 720, 64)     0         \n",
      "                                                                 \n",
      " max_pooling2d (MaxPooling2D  (None, 540, 360, 64)     0         \n",
      " )                                                               \n",
      "                                                                 \n",
      " conv2d_2 (Conv2D)           (None, 540, 360, 128)     131200    \n",
      "                                                                 \n",
      " batch_normalization_2 (Batc  (None, 540, 360, 128)    512       \n",
      " hNormalization)                                                 \n",
      "                                                                 \n",
      " tf.nn.relu_2 (TFOpLambda)   (None, 540, 360, 128)     0         \n",
      "                                                                 \n",
      " conv2d_3 (Conv2D)           (None, 540, 360, 128)     262272    \n",
      "                                                                 \n",
      " batch_normalization_3 (Batc  (None, 540, 360, 128)    512       \n",
      " hNormalization)                                                 \n",
      "                                                                 \n",
      " tf.nn.relu_3 (TFOpLambda)   (None, 540, 360, 128)     0         \n",
      "                                                                 \n",
      " up_sampling2d (UpSampling2D  (None, 1080, 720, 128)   0         \n",
      " )                                                               \n",
      "                                                                 \n",
      " conv2d_4 (Conv2D)           (None, 1080, 720, 64)     131136    \n",
      "                                                                 \n",
      " batch_normalization_4 (Batc  (None, 1080, 720, 64)    256       \n",
      " hNormalization)                                                 \n",
      "                                                                 \n",
      " tf.nn.relu_4 (TFOpLambda)   (None, 1080, 720, 64)     0         \n",
      "                                                                 \n",
      " conv2d_5 (Conv2D)           (None, 1080, 720, 64)     65600     \n",
      "                                                                 \n",
      " batch_normalization_5 (Batc  (None, 1080, 720, 64)    256       \n",
      " hNormalization)                                                 \n",
      "                                                                 \n",
      " tf.nn.relu_5 (TFOpLambda)   (None, 1080, 720, 64)     0         \n",
      "                                                                 \n",
      " conv2d_6 (Conv2D)           (None, 1080, 720, 3)      1731      \n",
      "                                                                 \n",
      "=================================================================\n",
      "Total params: 660,675\n",
      "Trainable params: 659,651\n",
      "Non-trainable params: 1,024\n",
      "_________________________________________________________________\n",
      "Epoch 1/2\n"
     ]
    },
    {
     "name": "stderr",
     "output_type": "stream",
     "text": [
      "2024-04-21 19:32:01.024596: I tensorflow/stream_executor/cuda/cuda_dnn.cc:424] Loaded cuDNN version 8700\n"
     ]
    },
    {
     "ename": "",
     "evalue": "",
     "output_type": "error",
     "traceback": [
      "\u001b[1;31mThe Kernel crashed while executing code in the current cell or a previous cell. \n",
      "\u001b[1;31mPlease review the code in the cell(s) to identify a possible cause of the failure. \n",
      "\u001b[1;31mClick <a href='https://aka.ms/vscodeJupyterKernelCrash'>here</a> for more info. \n",
      "\u001b[1;31mView Jupyter <a href='command:jupyter.viewOutput'>log</a> for further details."
     ]
    }
   ],
   "source": [
    "'''Calls training functions'''\n",
    "import src.training as training\n",
    "importlib.reload(training)\n",
    "import src.objects.architecture.conv_autoencoder as conv_autoencoder\n",
    "importlib.reload(conv_autoencoder)\n",
    "\n",
    "\n",
    "print(\"Num GPUs Available: \", len(tf.config.list_physical_devices('GPU')))\n",
    "tf.test.is_gpu_available(cuda_only=False, min_cuda_compute_capability=None)\n",
    "\n",
    "stack = training.get_best_model(stack)"
   ]
  },
  {
   "cell_type": "markdown",
   "metadata": {},
   "source": [
    "## **Prediction**"
   ]
  },
  {
   "cell_type": "code",
   "execution_count": null,
   "metadata": {},
   "outputs": [],
   "source": [
<<<<<<< HEAD
    "'''Calls prediction fucntions in prediction.py and methods from result'''\n",
    "predictor = Predictor(model_path='path/to/saved/model')\n",
    "input_data = 'path/to/input/data'\n",
    "predictions = predictor.predict(input_data)"
=======
    "'''Calls prediction functions in prediction.py and methods from result'''"
>>>>>>> b44aecf7a7633ac0ba5f1c7cb1533f76fd91aad9
   ]
  },
  {
   "cell_type": "markdown",
   "metadata": {},
   "source": [
    "## **Validation**"
   ]
  },
  {
   "cell_type": "code",
   "execution_count": null,
   "metadata": {},
   "outputs": [],
   "source": [
<<<<<<< HEAD
    "'''Calls the validation fuctions in validation.py and methods from result'''\n",
    "validator = Validator(model_path='path/to/saved/model')\n",
    "validation_data = 'path/to/validation/data'\n",
    "evaluation_metrics = validator.validate(validation_data)"
=======
    "'''Calls the validation functions in validation.py and methods from result'''"
>>>>>>> b44aecf7a7633ac0ba5f1c7cb1533f76fd91aad9
   ]
  }
 ],
 "metadata": {
  "kernelspec": {
   "display_name": "base",
   "language": "python",
   "name": "python3"
  },
  "language_info": {
   "codemirror_mode": {
    "name": "ipython",
    "version": 3
   },
   "file_extension": ".py",
   "mimetype": "text/x-python",
   "name": "python",
   "nbconvert_exporter": "python",
   "pygments_lexer": "ipython3",
   "version": "3.8.10"
  }
 },
 "nbformat": 4,
 "nbformat_minor": 2
}
