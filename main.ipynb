{
 "cells": [
  {
   "cell_type": "markdown",
   "metadata": {},
   "source": [
    "# **Final Project**"
   ]
  },
  {
   "cell_type": "code",
   "execution_count": null,
   "metadata": {},
   "outputs": [],
   "source": [
    "import warnings\n",
    "warnings.filterwarnings(\"ignore\")\n",
    "import importlib"
   ]
  },
  {
   "cell_type": "code",
   "execution_count": null,
   "metadata": {},
   "outputs": [],
   "source": [
    "'''Imports'''\n",
    "\n",
    "import src.preprocessing as preprocessing\n",
    "importlib.reload(preprocessing)\n",
    "\n",
    "import src.training as training\n",
    "importlib.reload(training)\n",
    "\n",
    "import src.validation as validation\n",
    "importlib.reload(validation)\n",
    "\n",
    "import src.prediction as prediction\n",
    "importlib.reload(prediction)\n",
    "\n",
    "import src.eda as eda\n",
    "importlib.reload(eda)\n",
    "\n",
    "\n",
    "# from src.preprocessing import preprocess\n",
    "# from src.training import get_best_model\n",
    "# from src.validation import Validator\n",
    "# from src.prediction import Predictor"
   ]
  },
  {
   "cell_type": "markdown",
   "metadata": {},
   "source": [
    "## **Preprocessing and Augmentation**"
   ]
  },
  {
   "cell_type": "code",
   "execution_count": null,
   "metadata": {},
   "outputs": [],
   "source": [
    "import src.preprocessing as preprocessing\n",
    "importlib.reload(preprocessing)\n",
    "\n",
    "'''Calls Preprocessing functions'''\n",
    "# Set the batch size according to your system's capabilities\n",
    "BATCH_SIZE = 8\n",
    "\n",
    "# Call the preprocess function\n",
    "stack = preprocessing.preprocess(BATCH_SIZE)"
   ]
  },
  {
   "cell_type": "code",
   "execution_count": null,
   "metadata": {},
   "outputs": [],
   "source": [
    "explorer = eda.DataExplorer('../data/train.csv', '../data/test.csv', '../data/validation.csv')\n",
    "explorer.display_head()\n",
    "explorer.summary_statistics()\n",
    "explorer.check_missing_values()\n",
    "explorer.feature_distribution('feature_name')  # Replace 'feature_name' with actual feature name\n",
    "explorer.visualize_outliers('feature_name')  # Replace 'feature_name' with actual feature name\n",
    "explorer.correlation_matrix()"
   ]
  },
  {
   "cell_type": "markdown",
   "metadata": {},
   "source": [
    "## **Training**"
   ]
  },
  {
   "cell_type": "code",
   "execution_count": null,
   "metadata": {},
   "outputs": [],
   "source": [
    "import src.training as training\n",
    "importlib.reload(training)\n",
    "\n",
    "'''Calls training functions'''\n",
    "stack = training.get_best_model(stack)"
   ]
  },
  {
   "cell_type": "markdown",
   "metadata": {},
   "source": [
    "## **Prediction**"
   ]
  },
  {
   "cell_type": "code",
   "execution_count": null,
   "metadata": {},
   "outputs": [],
   "source": [
    "import src.prediction as prediction\n",
    "importlib.reload(prediction)\n",
    "\n",
    "# update based on which model\n",
    "'''Calls prediction functions in prediction.py and methods from result'''\n",
    "predictor = prediction.Predictor(model_path='path/to/saved/model')\n",
    "input_data='../data/input/'\n",
    "predictions = predictor.predict(input_data)"
   ]
  },
  {
   "cell_type": "markdown",
   "metadata": {},
   "source": [
    "## **Validation**"
   ]
  },
  {
   "cell_type": "code",
   "execution_count": null,
   "metadata": {},
   "outputs": [],
   "source": [
    "import src.validation as validation\n",
    "importlib.reload(validation)\n",
    "\n",
    "\n",
    "'''Calls the validation fuctions in validation.py and methods from result'''\n",
    "validator = validation.Validator(model_path='path/to/saved/model')\n",
    "validation_data='../data/validation/'\n",
    "evaluation_metrics = validator.validate(validation_data)"
   ]
  }
 ],
 "metadata": {
  "kernelspec": {
   "display_name": "base",
   "language": "python",
   "name": "python3"
  },
  "language_info": {
   "codemirror_mode": {
    "name": "ipython",
    "version": 3
   },
   "file_extension": ".py",
   "mimetype": "text/x-python",
   "name": "python",
   "nbconvert_exporter": "python",
   "pygments_lexer": "ipython3",
   "version": "3.11.5"
  }
 },
 "nbformat": 4,
 "nbformat_minor": 2
}
